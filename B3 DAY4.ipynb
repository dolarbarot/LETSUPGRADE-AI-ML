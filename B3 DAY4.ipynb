{
 "cells": [
  {
   "cell_type": "markdown",
   "metadata": {},
   "source": [
    "# silver project"
   ]
  },
  {
   "cell_type": "code",
   "execution_count": 5,
   "metadata": {},
   "outputs": [
    {
     "name": "stdout",
     "output_type": "stream",
     "text": [
      "x) |o |x\n",
      "--------------\n",
      "o) |x |o\n",
      "----------------\n",
      "x) |o| x\n"
     ]
    }
   ],
   "source": [
    "from IPython.display import clear_output\n",
    "\n",
    "def display_board(board):\n",
    "    clear_output()\n",
    "    print(''+board[7]+') |'+board[8]+' |'+board[9]+'')\n",
    "    print(\"--------------\")\n",
    "    print(''+board[4]+') |'+board[5]+' |'+board[6]+'')\n",
    "    print(\"----------------\")\n",
    "    print(''+board[1]+') |'+board[2]+'| '+board[3]+'')\n",
    "    \n",
    "board=['#','x','o','x','o','x','o','x','o','x','o']\n",
    "\n",
    "display_board(board)"
   ]
  },
  {
   "cell_type": "code",
   "execution_count": null,
   "metadata": {},
   "outputs": [],
   "source": []
  }
 ],
 "metadata": {
  "kernelspec": {
   "display_name": "Python 3",
   "language": "python",
   "name": "python3"
  },
  "language_info": {
   "codemirror_mode": {
    "name": "ipython",
    "version": 3
   },
   "file_extension": ".py",
   "mimetype": "text/x-python",
   "name": "python",
   "nbconvert_exporter": "python",
   "pygments_lexer": "ipython3",
   "version": "3.7.6"
  }
 },
 "nbformat": 4,
 "nbformat_minor": 4
}
