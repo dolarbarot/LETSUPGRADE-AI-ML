{
  "nbformat": 4,
  "nbformat_minor": 0,
  "metadata": {
    "colab": {
      "name": "Untitled1.ipynb",
      "provenance": [],
      "authorship_tag": "ABX9TyPvf5Qir/5j5Dt+1eZXCdti",
      "include_colab_link": true
    },
    "kernelspec": {
      "name": "python3",
      "display_name": "Python 3"
    }
  },
  "cells": [
    {
      "cell_type": "markdown",
      "metadata": {
        "id": "view-in-github",
        "colab_type": "text"
      },
      "source": [
        "<a href=\"https://colab.research.google.com/github/dolarbarot/LETSUPGRADE-AI-ML/blob/master/Untitled1.ipynb\" target=\"_parent\"><img src=\"https://colab.research.google.com/assets/colab-badge.svg\" alt=\"Open In Colab\"/></a>"
      ]
    },
    {
      "cell_type": "code",
      "metadata": {
        "colab_type": "code",
        "id": "sXb7NMB9CGhQ",
        "colab": {}
      },
      "source": [
        ""
      ],
      "execution_count": null,
      "outputs": []
    },
    {
      "cell_type": "code",
      "metadata": {
        "id": "1_xyiQO_DczS",
        "colab_type": "code",
        "colab": {}
      },
      "source": [
        ""
      ],
      "execution_count": null,
      "outputs": []
    },
    {
      "cell_type": "code",
      "metadata": {
        "colab_type": "code",
        "id": "doL8NOgoCHQ2",
        "colab": {
          "base_uri": "https://localhost:8080/",
          "height": 85
        },
        "outputId": "8919659e-65b8-48fc-c8d5-c069cfdfac78"
      },
      "source": [
        "\n",
        "result_palindrome=False\n",
        "result_anagram=False\n",
        "\n",
        "\n",
        "def isPalindrome(): \n",
        "    s=input(\"Enter your string : \")\n",
        "    result_palindrome =(s == s[::-1])\n",
        "    if result_palindrome == True:\n",
        "        print(\"The string is a Palindrome\")\n",
        "    else:\n",
        "        print(\"The string is not a Palindrome\")\n",
        "    \n",
        "\n",
        "def check():\n",
        "    s1=input(\"Enter your first string : \")\n",
        "    s2=input(\"Enter your secong string : \")      \n",
        "    if(sorted(s1) == sorted(s2)): \n",
        "        result_anagram = True\n",
        "    else: \n",
        "        result_anagram = False\n",
        "    if result_anagram == True:\n",
        "        print(\"The given strings are Anagram\")\n",
        "    else:\n",
        "        print(\"The given strings are not Anagram\")\n",
        "\n",
        "\n",
        "  \n",
        "user_choice =int(input(\"Enter 1 to check if string is palindrome or Enter 2 to check if string is Anagram : \"))\n",
        "\n",
        "\n",
        "if user_choice==1:\n",
        "    isPalindrome()\n",
        "    \n",
        "elif user_choice==2:\n",
        "    check()\n",
        "else:\n",
        "    print(\"Enter a valid choice\")\n",
        "\n"
      ],
      "execution_count": 8,
      "outputs": [
        {
          "output_type": "stream",
          "text": [
            "Enter 1 to check if string is palindrome or Enter 2 to check if string is Anagram : 2\n",
            "Enter your first string : elbow\n",
            "Enter your secong string : below\n",
            "The given strings are Anagram\n"
          ],
          "name": "stdout"
        }
      ]
    }
  ]
}