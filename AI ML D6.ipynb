{
 "cells": [
  {
   "cell_type": "markdown",
   "metadata": {},
   "source": [
    "# Q 1"
   ]
  },
  {
   "cell_type": "code",
   "execution_count": null,
   "metadata": {},
   "outputs": [],
   "source": [
    "x = input (\"Enter email i.d \" ) \n",
    "x1= x.split(\"@\")\n",
    "print(x1)\n",
    "type(x1)"
   ]
  },
  {
   "cell_type": "code",
   "execution_count": 1,
   "metadata": {},
   "outputs": [
    {
     "name": "stdout",
     "output_type": "stream",
     "text": [
      "Enter email i.d dolar@letsupgrade\n",
      "company name is :  letsupgrade\n"
     ]
    }
   ],
   "source": [
    "x = input (\"Enter email i.d \" ) \n",
    "x1= x.split(\"@\")[1]\n",
    "\n",
    "company_name = x1.split(\".\")[0]\n",
    "print( \"company name is : \",company_name)\n"
   ]
  },
  {
   "cell_type": "markdown",
   "metadata": {},
   "source": [
    "# Q 2"
   ]
  },
  {
   "cell_type": "code",
   "execution_count": 2,
   "metadata": {},
   "outputs": [
    {
     "name": "stdout",
     "output_type": "stream",
     "text": [
      "Enter few words separated by coma : mango,orange,banana\n",
      "['mango', 'orange', 'banana']\n",
      "sorted word are :   ['banana', 'mango', 'orange']\n"
     ]
    }
   ],
   "source": [
    "str_words= input(\"Enter few words separated by coma : \")\n",
    "\n",
    "words= str_words.split(\",\")\n",
    "print(words)\n",
    "words.sort()\n",
    "print(\"sorted word are :  \" , words)\n"
   ]
  },
  {
   "cell_type": "markdown",
   "metadata": {},
   "source": [
    "#    Q 3"
   ]
  },
  {
   "cell_type": "code",
   "execution_count": 3,
   "metadata": {},
   "outputs": [
    {
     "name": "stdout",
     "output_type": "stream",
     "text": [
      "{'M.L.', 'data science', 'python', 'A.I.'}\n"
     ]
    }
   ],
   "source": [
    "set = {\"python\", \"data science\", \"M.L.\"}\n",
    "set.add(\"A.I.\")\n",
    "print(set)"
   ]
  },
  {
   "cell_type": "code",
   "execution_count": 4,
   "metadata": {},
   "outputs": [
    {
     "name": "stdout",
     "output_type": "stream",
     "text": [
      "{'Robotic Automation', 'M.L.', 'data science', 'cyber security', 'Deep Learning', 'python'}\n"
     ]
    }
   ],
   "source": [
    "set = {\"python\", \"data science\", \"M.L.\"}\n",
    "set1 = { \"Deep Learning\",\"Robotic Automation\",\"cyber security\"}\n",
    "set.update(set1)\n",
    "print(set)"
   ]
  },
  {
   "cell_type": "code",
   "execution_count": 5,
   "metadata": {},
   "outputs": [
    {
     "name": "stdout",
     "output_type": "stream",
     "text": [
      "{'M.L.', 'data science', 'python'}\n"
     ]
    }
   ],
   "source": [
    "set = {\"python\", \"data science\", \"M.L.\"}\n",
    "\n",
    "set1 = set.copy()\n",
    "print(set)\n"
   ]
  },
  {
   "cell_type": "code",
   "execution_count": 6,
   "metadata": {},
   "outputs": [
    {
     "name": "stdout",
     "output_type": "stream",
     "text": [
      "{'M.L.', 'data science'}\n"
     ]
    }
   ],
   "source": [
    "set = {\"python\", \"data science\", \"M.L.\"}\n",
    "set1 = { \"Deep Learning\",\"Robotic Automation\",\"cyber security\",\"python\"}\n",
    "set2= set.difference(set1)\n",
    "print(set2)"
   ]
  },
  {
   "cell_type": "code",
   "execution_count": 7,
   "metadata": {},
   "outputs": [
    {
     "name": "stdout",
     "output_type": "stream",
     "text": [
      "{'M.L.', 'data science'}\n"
     ]
    }
   ],
   "source": [
    "set = {\"python\", \"data science\", \"M.L.\"}\n",
    "set1 = { \"Deep Learning\",\"Robotic Automation\",\"cyber security\",\"python\"}\n",
    "set2 = set.difference_update(set1)\n",
    "print(set)"
   ]
  },
  {
   "cell_type": "code",
   "execution_count": 8,
   "metadata": {},
   "outputs": [
    {
     "name": "stdout",
     "output_type": "stream",
     "text": [
      "{'Robotic Automation', 'Deep Learning', 'cyber security'}\n"
     ]
    }
   ],
   "source": [
    "set1 = { \"Deep Learning\",\"Robotic Automation\",\"cyber security\",\"python\"}\n",
    "set1.discard(\"python\")\n",
    "print(set1)\n"
   ]
  },
  {
   "cell_type": "code",
   "execution_count": 9,
   "metadata": {},
   "outputs": [
    {
     "name": "stdout",
     "output_type": "stream",
     "text": [
      "{'Deep Learning', 'cyber security', 'python'}\n"
     ]
    }
   ],
   "source": [
    "set1 = { \"Deep Learning\",\"Robotic Automation\",\"cyber security\",\"python\"}\n",
    "set1.pop()\n",
    "print(set1)"
   ]
  },
  {
   "cell_type": "code",
   "execution_count": 10,
   "metadata": {},
   "outputs": [
    {
     "name": "stdout",
     "output_type": "stream",
     "text": [
      "{'python'}\n"
     ]
    }
   ],
   "source": [
    "set = {\"python\", \"data science\", \"M.L.\"}\n",
    "set1 = { \"Deep Learning\",\"Robotic Automation\",\"cyber security\",\"python\"}\n",
    "set2=set.intersection(set1)\n",
    "print(set2)"
   ]
  },
  {
   "cell_type": "code",
   "execution_count": 11,
   "metadata": {},
   "outputs": [
    {
     "name": "stdout",
     "output_type": "stream",
     "text": [
      "{'Robotic Automation', 'M.L.', 'data science', 'cyber security', 'Deep Learning', 'python'}\n"
     ]
    }
   ],
   "source": [
    "set = {\"python\", \"data science\", \"M.L.\"}\n",
    "set1 = { \"Deep Learning\",\"Robotic Automation\",\"cyber security\",\"python\"}\n",
    "set2=set.union(set1)\n",
    "print(set2)"
   ]
  },
  {
   "cell_type": "code",
   "execution_count": 12,
   "metadata": {},
   "outputs": [
    {
     "name": "stdout",
     "output_type": "stream",
     "text": [
      "{'Robotic Automation', 'Deep Learning', 'cyber security'}\n"
     ]
    }
   ],
   "source": [
    "set1 = { \"Deep Learning\",\"Robotic Automation\",\"cyber security\",\"python\"}\n",
    "set1.remove(\"python\")\n",
    "print(set1)"
   ]
  },
  {
   "cell_type": "markdown",
   "metadata": {},
   "source": [
    "# Q4"
   ]
  },
  {
   "cell_type": "code",
   "execution_count": 1,
   "metadata": {},
   "outputs": [
    {
     "name": "stdout",
     "output_type": "stream",
     "text": [
      "[3]\n"
     ]
    }
   ],
   "source": [
    "def find_missing(lst):\n",
    "    lst.sort()\n",
    "    return[x for x in range(lst[0], lst[-1]+1) if x not in lst ]\n",
    "\n",
    "nums = [7,5,6,4,2]\n",
    "print(find_missing(nums))"
   ]
  },
  {
   "cell_type": "markdown",
   "metadata": {},
   "source": [
    "# Q 5"
   ]
  },
  {
   "cell_type": "code",
   "execution_count": 1,
   "metadata": {},
   "outputs": [
    {
     "data": {
      "text/plain": [
       "[12, 24, 35, 88, 120, 155]"
      ]
     },
     "execution_count": 1,
     "metadata": {},
     "output_type": "execute_result"
    }
   ],
   "source": [
    "def Remove(duplicate): \n",
    "    final_list = [] \n",
    "    for num in duplicate: \n",
    "        if num not in final_list: \n",
    "            final_list.append(num) \n",
    "    return final_list \n",
    "    \n",
    "nums=[12,24,35,24,88,120,155,88,120,155]\n",
    "Remove(nums)"
   ]
  },
  {
   "cell_type": "code",
   "execution_count": null,
   "metadata": {},
   "outputs": [],
   "source": []
  }
 ],
 "metadata": {
  "kernelspec": {
   "display_name": "Python 3",
   "language": "python",
   "name": "python3"
  },
  "language_info": {
   "codemirror_mode": {
    "name": "ipython",
    "version": 3
   },
   "file_extension": ".py",
   "mimetype": "text/x-python",
   "name": "python",
   "nbconvert_exporter": "python",
   "pygments_lexer": "ipython3",
   "version": "3.7.6"
  }
 },
 "nbformat": 4,
 "nbformat_minor": 4
}
