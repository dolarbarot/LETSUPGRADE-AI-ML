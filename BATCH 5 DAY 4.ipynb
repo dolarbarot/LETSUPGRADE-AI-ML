{
 "cells": [
  {
   "cell_type": "markdown",
   "metadata": {},
   "source": [
    "# ASSIGN 1-FABONACCI SERIES\n"
   ]
  },
  {
   "cell_type": "code",
   "execution_count": 2,
   "metadata": {},
   "outputs": [],
   "source": [
    "def fibonacciGenerator():\n",
    "    range = 0\n",
    "    n1 = 0\n",
    "    n2 = 1\n",
    "    print(n1)\n",
    "    print(n2)\n",
    "    while range <20:\n",
    "        n3 = n1 + n2\n",
    "        print(n3)\n",
    "        n1 = n2\n",
    "        n2 = n3\n",
    "        range = range + 1\n",
    "        \n",
    "        \n",
    "        "
   ]
  },
  {
   "cell_type": "code",
   "execution_count": 4,
   "metadata": {},
   "outputs": [
    {
     "name": "stdout",
     "output_type": "stream",
     "text": [
      "0\n",
      "1\n",
      "1\n",
      "2\n",
      "3\n",
      "5\n",
      "8\n",
      "13\n",
      "21\n",
      "34\n",
      "55\n",
      "89\n",
      "144\n",
      "233\n",
      "377\n",
      "610\n",
      "987\n",
      "1597\n",
      "2584\n",
      "4181\n",
      "6765\n",
      "10946\n"
     ]
    }
   ],
   "source": [
    "fibonacciGenerator()"
   ]
  },
  {
   "cell_type": "code",
   "execution_count": 3,
   "metadata": {},
   "outputs": [],
   "source": [
    "def fibonacciGenerator(limit):\n",
    "    range = 0\n",
    "    n1 = 0\n",
    "    n2 = 1\n",
    "    print(n1)\n",
    "    print(n2)\n",
    "    while range <limit:\n",
    "        n3 = n1 + n2\n",
    "        print(n3)\n",
    "        n1 = n2\n",
    "        n2 = n3\n",
    "        range = range + 1\n",
    "        "
   ]
  },
  {
   "cell_type": "code",
   "execution_count": null,
   "metadata": {},
   "outputs": [],
   "source": []
  },
  {
   "cell_type": "markdown",
   "metadata": {},
   "source": [
    "# ASSIGNMENT 2"
   ]
  },
  {
   "cell_type": "code",
   "execution_count": 1,
   "metadata": {},
   "outputs": [],
   "source": [
    "f = open(\"my file\", \"w+b\")\n",
    "string = \"i love letsupgrade\"\n",
    "text = bytes(string, \"ascii\")\n",
    "f.write(text)\n",
    "f.close()"
   ]
  },
  {
   "cell_type": "code",
   "execution_count": 1,
   "metadata": {},
   "outputs": [
    {
     "name": "stdout",
     "output_type": "stream",
     "text": [
      "b'i love letsupgrade'\n"
     ]
    }
   ],
   "source": [
    "f = open(\"my file\", \"r+b\")\n",
    "print(f.read())\n",
    "f.close()"
   ]
  },
  {
   "cell_type": "code",
   "execution_count": 2,
   "metadata": {},
   "outputs": [],
   "source": [
    "f = open(\"my file\",\"a+b\")\n",
    "string = \"\\n\\nwe all love python with LU\"\n",
    "text = bytes(string,\"ascii\")\n",
    "f.write(text)\n",
    "f.close()"
   ]
  },
  {
   "cell_type": "code",
   "execution_count": 3,
   "metadata": {},
   "outputs": [
    {
     "name": "stdout",
     "output_type": "stream",
     "text": [
      "b'i love letsupgrade\\n\\nwe all love python with LU'\n"
     ]
    }
   ],
   "source": [
    "with open(\"my file\",\"r+b\") as f:\n",
    "    print(f.read())"
   ]
  },
  {
   "cell_type": "markdown",
   "metadata": {},
   "source": [
    "#ASSIGNMENT 3 "
   ]
  },
  {
   "cell_type": "markdown",
   "metadata": {},
   "source": [
    "# ASSIGNMENT 3"
   ]
  },
  {
   "cell_type": "code",
   "execution_count": 2,
   "metadata": {},
   "outputs": [
    {
     "name": "stdout",
     "output_type": "stream",
     "text": [
      "4\n"
     ]
    }
   ],
   "source": [
    "import random\n",
    "\n",
    "print(random.randint(3,9))\n"
   ]
  },
  {
   "cell_type": "code",
   "execution_count": null,
   "metadata": {},
   "outputs": [],
   "source": []
  },
  {
   "cell_type": "code",
   "execution_count": 3,
   "metadata": {},
   "outputs": [
    {
     "name": "stdout",
     "output_type": "stream",
     "text": [
      "5\n"
     ]
    }
   ],
   "source": [
    "import random\n",
    "\n",
    "print(random.randint(3,9))\n",
    "\n",
    "\n",
    "\n",
    "\n",
    "\n"
   ]
  },
  {
   "cell_type": "code",
   "execution_count": null,
   "metadata": {},
   "outputs": [],
   "source": []
  },
  {
   "cell_type": "code",
   "execution_count": null,
   "metadata": {},
   "outputs": [],
   "source": [
    "Assignment 3 - Movie recommnder\n",
    "Make a static Movie Recommender system which take in users input of what kind of movie they want to watch,\n",
    "\n",
    "Anim RomCom Action Thriller\n",
    "\n",
    "“And also randomise the movie output for every time”\n",
    "\n",
    "i/p - Thriller o/p - FNF, 6 Underground\n",
    "\n",
    "i/p - Thriller o/p - abcMovie, Sherlock homes"
   ]
  },
  {
   "cell_type": "code",
   "execution_count": 6,
   "metadata": {},
   "outputs": [],
   "source": [
    "import random\n",
    "\n",
    "\n",
    "\n",
    "def moviesuggestor(typee):\n",
    "    num1 = random.randint(1, 5)\n",
    "    num2 = random.randint(1, 5)\n",
    "    if num2 == num1:\n",
    "        num2 = random.randint(1, 5)\n",
    "        \n",
    "    if typee.lower() == \"anim\":\n",
    "        if num1 == 1 or num2 == 1:\n",
    "            print(\"lion king\")\n",
    "        if num1 == 2 or num2 == 2:\n",
    "            print(\"toy story\")\n",
    "        if num1 == 3 or num2 == 3:\n",
    "            print(\"car 1 or 3\")\n",
    "        if num1 == 4 or num2 == 4:\n",
    "            print(\"kungfu panda\")\n",
    "        if num1 == 5 or num2 == 5:\n",
    "            print(\"million\")\n",
    "            \n",
    "    elif typee.lower() == \"romcom\":\n",
    "        if num1 == 1 or num2 == 1:\n",
    "            print(\"frozen\")\n",
    "        if num1 == 2 or num2 == 2:\n",
    "            print(\"wall e\")\n",
    "        if num1 == 3 or num2 == 3:\n",
    "            print(\"her\")\n",
    "        if num1 == 4 or num2 == 4:\n",
    "            print(\"kabir singh\")\n",
    "        if num1 == 5 or num2 == 5:\n",
    "            print(\"sairat\")    \n",
    "     \n",
    "    elif typee.lower() == \"action\":\n",
    "        if num1 == 1 or num2 == 1:\n",
    "            print(\"caption all movies\")\n",
    "        if num1 == 2 or num2 == 2:\n",
    "            print(\"iron man\")\n",
    "        if num1 == 3 or num2 == 3:\n",
    "            print(\"terminator\")\n",
    "        if num1 == 4 or num2 == 4:\n",
    "            print(\"fnf\")\n",
    "        if num1 == 5 or num2 == 5:\n",
    "            print(\" avenger all\")\n",
    "            \n",
    "    elif typee.lower() == \"thriller\":\n",
    "        if num1 == 1 or num2 == 1:\n",
    "            print(\"mib\")\n",
    "        if num1 == 2 or num2 == 2:\n",
    "            print(\"wrong truth\")\n",
    "        if num1 == 3 or num2 == 3:\n",
    "            print(\"get out\")\n",
    "        if num1 == 4 or num2 == 4:\n",
    "            print(\"extration\")\n",
    "        if num1 == 5 or num2 == 5:\n",
    "            print(\"kgf\")\n",
    "            "
   ]
  },
  {
   "cell_type": "code",
   "execution_count": 7,
   "metadata": {},
   "outputs": [
    {
     "name": "stdout",
     "output_type": "stream",
     "text": [
      "wall e\n",
      "sairat\n"
     ]
    }
   ],
   "source": [
    "moviesuggestor(\"romcom\")"
   ]
  },
  {
   "cell_type": "code",
   "execution_count": null,
   "metadata": {},
   "outputs": [],
   "source": []
  },
  {
   "cell_type": "code",
   "execution_count": null,
   "metadata": {},
   "outputs": [],
   "source": []
  }
 ],
 "metadata": {
  "kernelspec": {
   "display_name": "Python 3",
   "language": "python",
   "name": "python3"
  },
  "language_info": {
   "codemirror_mode": {
    "name": "ipython",
    "version": 3
   },
   "file_extension": ".py",
   "mimetype": "text/x-python",
   "name": "python",
   "nbconvert_exporter": "python",
   "pygments_lexer": "ipython3",
   "version": "3.7.6"
  }
 },
 "nbformat": 4,
 "nbformat_minor": 4
}
