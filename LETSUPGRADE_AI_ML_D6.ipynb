{
  "nbformat": 4,
  "nbformat_minor": 0,
  "metadata": {
    "colab": {
      "name": "LETSUPGRADE AI ML-D6.ipynb",
      "provenance": [],
      "authorship_tag": "ABX9TyODfBSIq8Tawa8ErIiU1UaO",
      "include_colab_link": true
    },
    "kernelspec": {
      "name": "python3",
      "display_name": "Python 3"
    }
  },
  "cells": [
    {
      "cell_type": "markdown",
      "metadata": {
        "id": "view-in-github",
        "colab_type": "text"
      },
      "source": [
        "<a href=\"https://colab.research.google.com/github/dolarbarot/LETSUPGRADE-AI-ML/blob/master/LETSUPGRADE_AI_ML_D6.ipynb\" target=\"_parent\"><img src=\"https://colab.research.google.com/assets/colab-badge.svg\" alt=\"Open In Colab\"/></a>"
      ]
    },
    {
      "cell_type": "code",
      "metadata": {
        "id": "sML7PAwrFo_-",
        "colab_type": "code",
        "colab": {
          "base_uri": "https://localhost:8080/",
          "height": 51
        },
        "outputId": "a3b0511f-61fa-4930-859f-581da30c4ee7"
      },
      "source": [
        "x = input (\"Enter email i.d \" ) \n",
        "x1= x.split(\"@\")[1]\n",
        "\n",
        "company_name = x1.split(\".\")[0]\n",
        "print( \"company name is : \",company_name)\n"
      ],
      "execution_count": 4,
      "outputs": [
        {
          "output_type": "stream",
          "text": [
            "Enter email i.d dolar@letsupgrade.com\n",
            "company name is :  letsupgrade\n"
          ],
          "name": "stdout"
        }
      ]
    },
    {
      "cell_type": "code",
      "metadata": {
        "id": "DMpVfcQ3Jun9",
        "colab_type": "code",
        "colab": {}
      },
      "source": [
        "Q2"
      ],
      "execution_count": null,
      "outputs": []
    },
    {
      "cell_type": "code",
      "metadata": {
        "id": "1PAzXIpCQ5Jo",
        "colab_type": "code",
        "colab": {}
      },
      "source": [
        ""
      ],
      "execution_count": null,
      "outputs": []
    },
    {
      "cell_type": "code",
      "metadata": {
        "id": "TP4ERfOxJs4h",
        "colab_type": "code",
        "colab": {
          "base_uri": "https://localhost:8080/",
          "height": 68
        },
        "outputId": "e5fb16ce-dc79-4bd6-d0cc-ba651215fba0"
      },
      "source": [
        "str_words= input(\"Enter few words separated by coma : \")\n",
        "\n",
        "words= str_words.split(\",\")\n",
        "print(words)\n",
        "words.sort()\n",
        "print(\"sorted word are :  \" , words)\n",
        "\n",
        "\n",
        "\n",
        "\n",
        "\n",
        "\n",
        "\n",
        "\n",
        "\n"
      ],
      "execution_count": 22,
      "outputs": [
        {
          "output_type": "stream",
          "text": [
            "Enter few words separated by coma : mango,orange,banana\n",
            "['mango', 'orange', 'banana']\n",
            "sorted word are :   ['banana', 'mango', 'orange']\n"
          ],
          "name": "stdout"
        }
      ]
    }
  ]
}