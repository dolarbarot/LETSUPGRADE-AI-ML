{
 "cells": [
  {
   "cell_type": "code",
   "execution_count": 1,
   "metadata": {},
   "outputs": [
    {
     "name": "stdout",
     "output_type": "stream",
     "text": [
      "marks 89\n",
      "excellent\n"
     ]
    }
   ],
   "source": [
    "n=int(input(\"marks \"))\n",
    "\n",
    "if n < 35:\n",
    "    print(\"fail\")\n",
    "    \n",
    "elif n >= 35 and n< 45:\n",
    "    print(\"grade E\")\n",
    "elif n >= 45 and n< 55:\n",
    "    print(\"grade D \")\n",
    "elif n >= 55 and n< 65:\n",
    "    print(\"grade C\")\n",
    "elif n >= 65 and n< 75:\n",
    "    print(\"grade B\")\n",
    "elif n >= 75 and n< 85:\n",
    "    print(\"grade A\")\n",
    "else:\n",
    "    print(\"excellent\")\n",
    "    \n",
    "    \n",
    "    \n",
    "    \n",
    "    \n",
    "    \n",
    "    \n",
    "    \n",
    "    \n",
    "    "
   ]
  },
  {
   "cell_type": "markdown",
   "metadata": {},
   "source": [
    "# ASSIGNEMENT 5"
   ]
  },
  {
   "cell_type": "code",
   "execution_count": 5,
   "metadata": {},
   "outputs": [],
   "source": [
    "file=open(\"FCS.txt\",'w')\n",
    "\n",
    "file.write(\"i love FCS\")\n",
    "\n",
    "file.close()\n"
   ]
  },
  {
   "cell_type": "code",
   "execution_count": 9,
   "metadata": {},
   "outputs": [
    {
     "name": "stdout",
     "output_type": "stream",
     "text": [
      "i love FCS\n"
     ]
    }
   ],
   "source": [
    "file = open(\"FCS.txt\",'r')\n",
    "\n",
    "txt = file.read()\n",
    "\n",
    "print(txt)\n",
    "\n",
    "file.close()"
   ]
  },
  {
   "cell_type": "markdown",
   "metadata": {},
   "source": [
    "# ASSIGNMENT 2"
   ]
  },
  {
   "cell_type": "code",
   "execution_count": null,
   "metadata": {},
   "outputs": [],
   "source": [
    "playersguess=int(input(\"\"))\n",
    "\n",
    "\n",
    "while playerguess < 1 or playerguess > 250:\n",
    "    \n",
    "    print(\"lose expectation for 20-20\")\n",
    "    \n",
    "    break\n",
    "    \n",
    "    if playerguess==(random.randint(a-10,a+10)):\n",
    "        \n",
    "        print( \"you are true indian fan\")\n",
    "        \n",
    "    else:\n",
    "            print(\"you are not true indian fan\")\n",
    "            "
   ]
  },
  {
   "cell_type": "code",
   "execution_count": null,
   "metadata": {},
   "outputs": [],
   "source": [
    "import random\n",
    "\n",
    "playerguess=int(input(\"25\"))\n",
    "\n",
    "x=random.randint(1,250)\n",
    "print(\"comp no : \",x)\n",
    "\n",
    "\n",
    "while playerguess < 1 or playerguess > 250:\n",
    "    \n",
    "    print(\"lose expectation for 20-20\")\n",
    "    \n",
    "    break\n",
    "    \n",
    "    if playerguess==(random.randint(a-10,a+10)):\n",
    "        \n",
    "        print( \"you are true indian fan\")\n",
    "        \n",
    "    else:\n",
    "            print(\"you are not true indian fan\")\n",
    "            \n",
    "\n",
    "\n",
    "\n",
    "\n"
   ]
  },
  {
   "cell_type": "code",
   "execution_count": null,
   "metadata": {},
   "outputs": [],
   "source": []
  }
 ],
 "metadata": {
  "kernelspec": {
   "display_name": "Python 3",
   "language": "python",
   "name": "python3"
  },
  "language_info": {
   "codemirror_mode": {
    "name": "ipython",
    "version": 3
   },
   "file_extension": ".py",
   "mimetype": "text/x-python",
   "name": "python",
   "nbconvert_exporter": "python",
   "pygments_lexer": "ipython3",
   "version": "3.7.6"
  }
 },
 "nbformat": 4,
 "nbformat_minor": 4
}
