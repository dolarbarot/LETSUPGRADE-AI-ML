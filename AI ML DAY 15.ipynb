{
 "cells": [
  {
   "cell_type": "markdown",
   "metadata": {},
   "source": [
    "# 1"
   ]
  },
  {
   "cell_type": "code",
   "execution_count": 2,
   "metadata": {
    "scrolled": true
   },
   "outputs": [
    {
     "name": "stdout",
     "output_type": "stream",
     "text": [
      "[[[0.74239615 0.69504204 0.77431943]\n",
      "  [0.88342447 0.80116021 0.27267322]\n",
      "  [0.81972262 0.49310701 0.18311391]]\n",
      "\n",
      " [[0.76130074 0.90085253 0.06441285]\n",
      "  [0.17251412 0.12659784 0.78382504]\n",
      "  [0.3231597  0.35433046 0.39482209]]\n",
      "\n",
      " [[0.02607805 0.98235774 0.64020343]\n",
      "  [0.3240716  0.29620713 0.74436038]\n",
      "  [0.0977837  0.42922035 0.05166287]]]\n"
     ]
    }
   ],
   "source": [
    "import numpy as np\n",
    "array=np.random.random([3,3,3])\n",
    "print(array)"
   ]
  },
  {
   "cell_type": "markdown",
   "metadata": {},
   "source": [
    "# 2"
   ]
  },
  {
   "cell_type": "code",
   "execution_count": 4,
   "metadata": {},
   "outputs": [
    {
     "name": "stdout",
     "output_type": "stream",
     "text": [
      "[[1 0 0 0]\n",
      " [0 2 0 0]\n",
      " [0 0 3 0]\n",
      " [0 0 0 4]]\n"
     ]
    }
   ],
   "source": [
    "import numpy as np\n",
    "array=np.diag([1,2,3,4])\n",
    "print(array)"
   ]
  },
  {
   "cell_type": "markdown",
   "metadata": {},
   "source": [
    "# 3"
   ]
  },
  {
   "cell_type": "code",
   "execution_count": 5,
   "metadata": {},
   "outputs": [
    {
     "name": "stdout",
     "output_type": "stream",
     "text": [
      "Checkerboard pattern:\n"
     ]
    }
   ],
   "source": [
    "import numpy as np\n",
    "x = np.ones((8,8))\n",
    "print(\"Checkerboard pattern:\")\n"
   ]
  },
  {
   "cell_type": "code",
   "execution_count": null,
   "metadata": {},
   "outputs": [],
   "source": []
  },
  {
   "cell_type": "code",
   "execution_count": 6,
   "metadata": {},
   "outputs": [
    {
     "name": "stdout",
     "output_type": "stream",
     "text": [
      "Checkerboard pattern:\n",
      "[[0 1 0 1 0 1 0 1]\n",
      " [1 0 1 0 1 0 1 0]\n",
      " [0 1 0 1 0 1 0 1]\n",
      " [1 0 1 0 1 0 1 0]\n",
      " [0 1 0 1 0 1 0 1]\n",
      " [1 0 1 0 1 0 1 0]\n",
      " [0 1 0 1 0 1 0 1]\n",
      " [1 0 1 0 1 0 1 0]]\n"
     ]
    }
   ],
   "source": [
    "import numpy as np\n",
    "\n",
    "print(\"Checkerboard pattern:\")\n",
    "x = np.zeros((8,8),dtype=int)\n",
    "x[1::2,::2] = 1\n",
    "x[::2,1::2] = 1\n",
    "print(x)"
   ]
  },
  {
   "cell_type": "code",
   "execution_count": 12,
   "metadata": {},
   "outputs": [
    {
     "name": "stdout",
     "output_type": "stream",
     "text": [
      "[[0 1 0 1 0 1 0 1]\n",
      " [1 0 1 0 1 0 1 0]\n",
      " [0 1 0 1 0 1 0 1]\n",
      " [1 0 1 0 1 0 1 0]\n",
      " [0 1 0 1 0 1 0 1]\n",
      " [1 0 1 0 1 0 1 0]\n",
      " [0 1 0 1 0 1 0 1]\n",
      " [1 0 1 0 1 0 1 0]]\n"
     ]
    }
   ],
   "source": [
    "import numpy as np\n",
    "x = np.zeros((8,8),dtype=int)\n",
    "x[1::2,::2] = 1\n",
    "x[::2,1::2] = 1\n",
    "\n",
    "\n",
    "print(x)"
   ]
  },
  {
   "cell_type": "markdown",
   "metadata": {},
   "source": [
    "# 4"
   ]
  },
  {
   "cell_type": "code",
   "execution_count": 14,
   "metadata": {},
   "outputs": [
    {
     "name": "stdout",
     "output_type": "stream",
     "text": [
      "[[0.66556075 0.59044676 0.75367142 0.80306212 0.8930378 ]\n",
      " [0.90412685 0.64486663 0.21429107 0.18011649 0.63899506]\n",
      " [0.63232676 0.29005047 0.79433419 0.01856985 0.54247906]\n",
      " [0.2262073  0.41133565 0.66692444 0.38426146 0.1560335 ]\n",
      " [0.47721285 0.8210749  0.09593357 0.33023612 0.05139592]]\n",
      "[[0.73060334 0.64578216 0.8301008  0.88587439 0.98747788]\n",
      " [1.         0.70723486 0.22101481 0.18242376 0.70060448]\n",
      " [0.69307443 0.30656481 0.87601852 0.         0.59161546]\n",
      " [0.23447101 0.44352401 0.73214326 0.41295095 0.15522846]\n",
      " [0.51791471 0.90621501 0.08736164 0.35194377 0.03706827]]\n"
     ]
    }
   ],
   "source": [
    "import numpy as np\n",
    "array=np.random.random([5,5])\n",
    "print(array)\n",
    "xmax=array.max()\n",
    "xmin=array.min()\n",
    "z=(array-xmin)/(xmax-xmin)\n",
    "print(z)"
   ]
  },
  {
   "cell_type": "markdown",
   "metadata": {},
   "source": [
    "# 5"
   ]
  },
  {
   "cell_type": "code",
   "execution_count": 3,
   "metadata": {},
   "outputs": [
    {
     "name": "stdout",
     "output_type": "stream",
     "text": [
      "[10]\n"
     ]
    }
   ],
   "source": [
    "import numpy as np\n",
    "array1=np.array([10,20,30])\n",
    "array2=np.array([10,40,50])\n",
    "print(np.intersect1d(array1,array2))\n"
   ]
  },
  {
   "cell_type": "code",
   "execution_count": null,
   "metadata": {},
   "outputs": [],
   "source": []
  },
  {
   "cell_type": "code",
   "execution_count": 2,
   "metadata": {},
   "outputs": [
    {
     "name": "stdout",
     "output_type": "stream",
     "text": [
      "[10 20 30]\n",
      "[10 40 50]\n",
      "[10]\n"
     ]
    }
   ],
   "source": [
    "array1 = np.array([10,20,30])\n",
    "print(array1)\n",
    "array2=np.array([10,40,50])\n",
    "print(array2)\n",
    "print(np.intersect1d(array1, array2))"
   ]
  },
  {
   "cell_type": "markdown",
   "metadata": {},
   "source": [
    "# 6"
   ]
  },
  {
   "cell_type": "code",
   "execution_count": 5,
   "metadata": {
    "scrolled": true
   },
   "outputs": [
    {
     "name": "stdout",
     "output_type": "stream",
     "text": [
      "Yesterday:  2020-07-25\n",
      "Today:  2020-07-26\n",
      "Tomorrow:  2020-07-27\n"
     ]
    }
   ],
   "source": [
    "import numpy as np\n",
    "yesterday = np.datetime64('today', 'D') - np.timedelta64(1, 'D')\n",
    "print(\"Yesterday: \",yesterday)\n",
    "today     = np.datetime64('today', 'D')\n",
    "print(\"Today: \",today)\n",
    "tomorrow  = np.datetime64('today', 'D') + np.timedelta64(1, 'D')\n",
    "print(\"Tomorrow: \",tomorrow)"
   ]
  },
  {
   "cell_type": "markdown",
   "metadata": {},
   "source": [
    "# 7"
   ]
  },
  {
   "cell_type": "code",
   "execution_count": 6,
   "metadata": {},
   "outputs": [
    {
     "name": "stdout",
     "output_type": "stream",
     "text": [
      "[10 20 30]\n",
      "[10 40 50]\n",
      "False\n"
     ]
    }
   ],
   "source": [
    "array1 = np.array([10,20,30])\n",
    "print(array1)\n",
    "array2=np.array([10,40,50])\n",
    "print(array2)\n",
    "print(np.allclose(array1, array2))"
   ]
  },
  {
   "cell_type": "markdown",
   "metadata": {},
   "source": [
    "# 8"
   ]
  },
  {
   "cell_type": "code",
   "execution_count": 7,
   "metadata": {},
   "outputs": [
    {
     "name": "stdout",
     "output_type": "stream",
     "text": [
      "Original array:\n",
      "[0.87461769 0.46217814 0.22868581 0.47006756 0.13395648 0.92236718\n",
      " 0.63201875 0.00715676 0.3026327  0.42231008]\n",
      "Maximum value replaced by 0:\n",
      "[0.87461769 0.46217814 0.22868581 0.47006756 0.13395648 0.\n",
      " 0.63201875 0.00715676 0.3026327  0.42231008]\n"
     ]
    }
   ],
   "source": [
    "import numpy as np\n",
    "x = np.random.random(10)\n",
    "print(\"Original array:\")\n",
    "print(x)\n",
    "x[x.argmax()] = 0\n",
    "print(\"Maximum value replaced by 0:\")\n",
    "print(x)"
   ]
  },
  {
   "cell_type": "markdown",
   "metadata": {},
   "source": [
    "# 9"
   ]
  },
  {
   "cell_type": "code",
   "execution_count": 8,
   "metadata": {},
   "outputs": [
    {
     "name": "stdout",
     "output_type": "stream",
     "text": [
      "[10 20 30 40 50]\n"
     ]
    }
   ],
   "source": [
    "array1 = np.array([10,20,30,40,50])\n",
    "print(array1)"
   ]
  },
  {
   "cell_type": "markdown",
   "metadata": {},
   "source": [
    "# 10"
   ]
  },
  {
   "cell_type": "code",
   "execution_count": 10,
   "metadata": {},
   "outputs": [
    {
     "name": "stdout",
     "output_type": "stream",
     "text": [
      "Original matrix:\n",
      "\n",
      "[[0.96611214 0.78593214 0.33361928 0.08358137 0.48454359 0.8726908\n",
      "  0.41460863 0.23787284 0.87444827 0.78141537 0.3610473  0.12964021\n",
      "  0.0413256  0.90917064 0.63099182 0.68186066 0.31791438 0.13805999\n",
      "  0.05101514 0.84792944]\n",
      " [0.38931339 0.12255261 0.89061379 0.98467863 0.58219513 0.75812681\n",
      "  0.79071411 0.74024229 0.33878551 0.6458375  0.3831212  0.58788345\n",
      "  0.90597662 0.92756216 0.953145   0.69995408 0.58760375 0.3792931\n",
      "  0.31280559 0.0312945 ]\n",
      " [0.48553969 0.47802236 0.20552765 0.78893213 0.90037909 0.86726319\n",
      "  0.24296085 0.31487258 0.63410278 0.36705256 0.84504051 0.5738113\n",
      "  0.00408899 0.06235142 0.33866947 0.28538701 0.15765404 0.59613636\n",
      "  0.61262981 0.48896697]\n",
      " [0.35579407 0.06907039 0.32611213 0.39583487 0.7146496  0.45741818\n",
      "  0.22413952 0.40658822 0.73863816 0.70953702 0.56727619 0.56553467\n",
      "  0.07407678 0.00875853 0.14273105 0.75697516 0.67199616 0.69145466\n",
      "  0.16332414 0.10476686]\n",
      " [0.11729214 0.96059426 0.72887961 0.61427233 0.04852214 0.18022655\n",
      "  0.72342562 0.22511872 0.56895351 0.89728657 0.08721254 0.91639371\n",
      "  0.36160872 0.68280117 0.5699982  0.40817927 0.70066719 0.9158164\n",
      "  0.54557292 0.43855396]\n",
      " [0.01009112 0.5813746  0.35162687 0.08962249 0.66101573 0.75014598\n",
      "  0.44648497 0.63607095 0.61027146 0.61749552 0.29179806 0.30231278\n",
      "  0.43354109 0.84246671 0.11264367 0.8751252  0.11369844 0.29634593\n",
      "  0.82759489 0.36188373]\n",
      " [0.06683874 0.68483936 0.89120787 0.92560012 0.34250651 0.53832115\n",
      "  0.70855615 0.74195589 0.15309778 0.53979784 0.74237681 0.49998869\n",
      "  0.46209092 0.71380009 0.21128043 0.40848533 0.33143135 0.63279143\n",
      "  0.85402911 0.75758329]\n",
      " [0.37135091 0.76441544 0.46697103 0.59713712 0.49479368 0.1426484\n",
      "  0.46142351 0.11237812 0.72692388 0.17529789 0.08135477 0.39487661\n",
      "  0.82698373 0.96325872 0.48570062 0.76368384 0.0079176  0.93249719\n",
      "  0.77142916 0.65400825]\n",
      " [0.82639399 0.39743123 0.93052778 0.20987744 0.69874242 0.24224532\n",
      "  0.38473488 0.64350306 0.16522876 0.38976372 0.31240254 0.46912018\n",
      "  0.36909916 0.73636998 0.07552316 0.07615835 0.03419915 0.26705305\n",
      "  0.67646786 0.06365345]\n",
      " [0.04717101 0.17948995 0.75413274 0.96375625 0.66930771 0.85790136\n",
      "  0.13002968 0.47045224 0.78514206 0.49818044 0.66117373 0.75578219\n",
      "  0.35322516 0.59323806 0.83700384 0.55253618 0.48783088 0.39840989\n",
      "  0.45005911 0.80220668]]\n",
      " array after subtract each raw with mean\n",
      "[[ 0.46892316  0.28874316 -0.1635697  -0.41360761 -0.01264539  0.37550182\n",
      "  -0.08258035 -0.25931614  0.37725929  0.28422639 -0.13614168 -0.36754877\n",
      "  -0.45586338  0.41198166  0.13380284  0.18467167 -0.1792746  -0.35912899\n",
      "  -0.44617384  0.35074046]\n",
      " [-0.21127157 -0.47803235  0.29002882  0.38409367 -0.01838983  0.15754185\n",
      "   0.19012915  0.13965733 -0.26179945  0.04525253 -0.21746376 -0.01270151\n",
      "   0.30539166  0.3269772   0.35256004  0.09936912 -0.01298121 -0.22129186\n",
      "  -0.28777937 -0.56929046]\n",
      " [ 0.02307025  0.01555292 -0.25694178  0.32646269  0.43790965  0.40479375\n",
      "  -0.21950859 -0.14759686  0.17163334 -0.09541688  0.38257107  0.11134186\n",
      "  -0.45838045 -0.40011802 -0.12379997 -0.17708242 -0.3048154   0.13366692\n",
      "   0.15016037  0.02649753]\n",
      " [-0.05143974 -0.33816343 -0.08112169 -0.01139895  0.30741578  0.05018436\n",
      "  -0.1830943  -0.0006456   0.33140434  0.3023032   0.16004238  0.15830085\n",
      "  -0.33315704 -0.39847529 -0.26450276  0.34974134  0.26476234  0.28422084\n",
      "  -0.24390968 -0.30246695]\n",
      " [-0.41727664  0.42602549  0.19431084  0.07970356 -0.48604664 -0.35434222\n",
      "   0.18885684 -0.30945006  0.03438474  0.36271779 -0.44735623  0.38182493\n",
      "  -0.17296005  0.1482324   0.03542942 -0.1263895   0.16609841  0.38124763\n",
      "   0.01100414 -0.09601482]\n",
      " [-0.45048939  0.12079409 -0.10895364 -0.37095801  0.20043522  0.28956547\n",
      "  -0.01409554  0.17549045  0.14969095  0.15691501 -0.16878245 -0.15826773\n",
      "  -0.02703942  0.3818862  -0.34793684  0.4145447  -0.34688207 -0.16423458\n",
      "   0.36701438 -0.09869678]\n",
      " [-0.4934902   0.12451041  0.33087893  0.36527118 -0.21782243 -0.02200779\n",
      "   0.1482272   0.18162695 -0.40723117 -0.0205311   0.18204787 -0.06034025\n",
      "  -0.09823802  0.15347115 -0.34904851 -0.15184362 -0.22889759  0.07246249\n",
      "   0.29370016  0.19725434]\n",
      " [-0.13840161  0.25466291 -0.0427815   0.08738459 -0.01495884 -0.36710412\n",
      "  -0.04832902 -0.3973744   0.21717136 -0.33445463 -0.42839775 -0.11487591\n",
      "   0.3172312   0.4535062  -0.02405191  0.25393132 -0.50183492  0.42274466\n",
      "   0.26167663  0.14425573]\n",
      " [ 0.42796922 -0.00099355  0.53210301 -0.18854733  0.30031765 -0.15617946\n",
      "  -0.01368989  0.24507829 -0.23319602 -0.00866106 -0.08602223  0.07069541\n",
      "  -0.02932561  0.3379452  -0.32290162 -0.32226642 -0.36422563 -0.13137173\n",
      "   0.27804308 -0.33477133]\n",
      " [-0.51518045 -0.38286151  0.19178128  0.4014048   0.10695625  0.29554991\n",
      "  -0.43232178 -0.09189922  0.2227906  -0.06417102  0.09882227  0.19343073\n",
      "  -0.2091263   0.0308866   0.27465238 -0.00981528 -0.07452057 -0.16394157\n",
      "  -0.11229235  0.23985522]]\n"
     ]
    }
   ],
   "source": [
    "import numpy as np\n",
    "print(\"Original matrix:\\n\")\n",
    "X = np.random.rand(10, 20)\n",
    "print(X)\n",
    "print(\" array after subtract each raw with mean\")\n",
    "Y = X - X.mean(axis=1, keepdims=True)\n",
    "print(Y)"
   ]
  },
  {
   "cell_type": "markdown",
   "metadata": {},
   "source": [
    "# 14"
   ]
  },
  {
   "cell_type": "code",
   "execution_count": 12,
   "metadata": {},
   "outputs": [
    {
     "name": "stdout",
     "output_type": "stream",
     "text": [
      "50\n"
     ]
    }
   ],
   "source": [
    "array1 = np.array([10,20,30,40,50])\n",
    "print(array1.max())"
   ]
  },
  {
   "cell_type": "markdown",
   "metadata": {},
   "source": [
    "# 13"
   ]
  },
  {
   "cell_type": "code",
   "execution_count": 18,
   "metadata": {},
   "outputs": [
    {
     "name": "stdout",
     "output_type": "stream",
     "text": [
      "[10 20 30]\n"
     ]
    }
   ],
   "source": [
    "array1 = np.array([10,20,30])\n",
    "print(array1)"
   ]
  },
  {
   "cell_type": "code",
   "execution_count": 21,
   "metadata": {},
   "outputs": [
    {
     "name": "stdout",
     "output_type": "stream",
     "text": [
      "[9 0 5 9 1 2 9 4 9 1 7 2 8 9 5 2 7 3 1 7 9 7 7 7 9 6 4 1 9 9 2 0 1 1 7 3 2\n",
      " 1 7 2]\n"
     ]
    }
   ],
   "source": [
    "import numpy as np\n",
    "x = np.random.randint(0, 10, 40)\n",
    "print(x)"
   ]
  },
  {
   "cell_type": "code",
   "execution_count": 22,
   "metadata": {},
   "outputs": [
    {
     "name": "stdout",
     "output_type": "stream",
     "text": [
      "9\n"
     ]
    }
   ],
   "source": [
    "print(np.bincount(x).argmax())"
   ]
  },
  {
   "cell_type": "markdown",
   "metadata": {},
   "source": [
    "# 11"
   ]
  },
  {
   "cell_type": "code",
   "execution_count": 26,
   "metadata": {},
   "outputs": [
    {
     "name": "stdout",
     "output_type": "stream",
     "text": [
      "[[1. 1. 1.]\n",
      " [1. 1. 1.]\n",
      " [1. 1. 1.]]\n"
     ]
    }
   ],
   "source": [
    "array1 = np.ones((3,3))\n",
    "print(array1)"
   ]
  },
  {
   "cell_type": "code",
   "execution_count": 28,
   "metadata": {},
   "outputs": [
    {
     "name": "stdout",
     "output_type": "stream",
     "text": [
      "[1, 2, 3]\n"
     ]
    }
   ],
   "source": [
    "array2 = ([1,2,3])\n",
    "print(array2)"
   ]
  },
  {
   "cell_type": "code",
   "execution_count": 29,
   "metadata": {},
   "outputs": [
    {
     "name": "stdout",
     "output_type": "stream",
     "text": [
      "[[2. 3. 4.]\n",
      " [2. 3. 4.]\n",
      " [2. 3. 4.]]\n"
     ]
    }
   ],
   "source": [
    "add_raw=array1+array2\n",
    "print(add_raw)"
   ]
  },
  {
   "cell_type": "markdown",
   "metadata": {},
   "source": [
    "# 14"
   ]
  },
  {
   "cell_type": "code",
   "execution_count": 30,
   "metadata": {},
   "outputs": [
    {
     "name": "stdout",
     "output_type": "stream",
     "text": [
      "[19]\n"
     ]
    }
   ],
   "source": [
    "import numpy as np\n",
    "x = np.arange(20)\n",
    "\n",
    "\n",
    "np.random.shuffle(x)\n",
    "n = 1\n",
    "print (x[np.argsort(x)[-n:]])"
   ]
  },
  {
   "cell_type": "markdown",
   "metadata": {},
   "source": [
    "# 15"
   ]
  },
  {
   "cell_type": "code",
   "execution_count": 31,
   "metadata": {},
   "outputs": [
    {
     "name": "stdout",
     "output_type": "stream",
     "text": [
      "[['A' '66.5' '90']\n",
      " ['B' '88' '99']\n",
      " ['C' '85.5' '91']]\n",
      "[(b'A', 66.5, 90) (b'B', 88. , 99) (b'C', 85.5, 91)]\n"
     ]
    }
   ],
   "source": [
    "import numpy as np\n",
    "arra1 = np.array([(\"A\", 66.5, 90),\n",
    "                 (\"B\", 88, 99),\n",
    "             (\"C\", 85.5, 91)])\n",
    "\n",
    "print(arra1)\n",
    "\n",
    "result = np.core.records.fromarrays(arra1.T,\n",
    "                              names='col1, col2, col3',\n",
    "                              formats = 'S80, f8, i8')\n",
    "print(result)"
   ]
  },
  {
   "cell_type": "code",
   "execution_count": null,
   "metadata": {},
   "outputs": [],
   "source": []
  },
  {
   "cell_type": "code",
   "execution_count": null,
   "metadata": {},
   "outputs": [],
   "source": []
  },
  {
   "cell_type": "code",
   "execution_count": null,
   "metadata": {},
   "outputs": [],
   "source": []
  },
  {
   "cell_type": "code",
   "execution_count": null,
   "metadata": {},
   "outputs": [],
   "source": []
  },
  {
   "cell_type": "code",
   "execution_count": null,
   "metadata": {},
   "outputs": [],
   "source": []
  },
  {
   "cell_type": "code",
   "execution_count": null,
   "metadata": {},
   "outputs": [],
   "source": []
  },
  {
   "cell_type": "code",
   "execution_count": null,
   "metadata": {},
   "outputs": [],
   "source": []
  },
  {
   "cell_type": "code",
   "execution_count": null,
   "metadata": {},
   "outputs": [],
   "source": []
  }
 ],
 "metadata": {
  "kernelspec": {
   "display_name": "Python 3",
   "language": "python",
   "name": "python3"
  },
  "language_info": {
   "codemirror_mode": {
    "name": "ipython",
    "version": 3
   },
   "file_extension": ".py",
   "mimetype": "text/x-python",
   "name": "python",
   "nbconvert_exporter": "python",
   "pygments_lexer": "ipython3",
   "version": "3.7.6"
  }
 },
 "nbformat": 4,
 "nbformat_minor": 4
}
