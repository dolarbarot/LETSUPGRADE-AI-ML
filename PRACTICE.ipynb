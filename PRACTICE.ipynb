{
 "cells": [
  {
   "cell_type": "code",
   "execution_count": null,
   "metadata": {},
   "outputs": [],
   "source": [
    "lst=[1,5,6,4,1,2,3,5]"
   ]
  },
  {
   "cell_type": "code",
   "execution_count": null,
   "metadata": {},
   "outputs": [],
   "source": [
    "lst=[1,5,6,4,1,2,3,5]"
   ]
  },
  {
   "cell_type": "code",
   "execution_count": null,
   "metadata": {},
   "outputs": [],
   "source": [
    "lst"
   ]
  },
  {
   "cell_type": "code",
   "execution_count": null,
   "metadata": {},
   "outputs": [],
   "source": [
    "listy = [1,5,6,4,1,2,3]\n",
    "\n",
    "sub_list = [1,1,5]\n",
    "\n",
    "for item in listy:\n",
    "    if item == sub_list[0]:\n",
    "        sub_list.pop(0)\n",
    "        \n",
    "if len(sub_list) == 0:\n",
    "    print(\"its a match\")\n",
    "else:\n",
    "    print(\"its Gone\")"
   ]
  },
  {
   "cell_type": "code",
   "execution_count": null,
   "metadata": {},
   "outputs": [],
   "source": [
    "listy = [1,4,2,1,6,5,4,1,2,3]\n",
    "\n",
    "sub_list = [1,1,5]\n",
    "\n",
    "for item in listy:\n",
    "    if item == sub_list[0]:\n",
    "        sub_list.pop(0)\n",
    "        \n",
    "if len(sub_list) == 0:\n",
    "    print(\"its a match\")\n",
    "else:\n",
    "    print(\"its Gone\")"
   ]
  },
  {
   "cell_type": "code",
   "execution_count": null,
   "metadata": {},
   "outputs": [],
   "source": [
    "listy = [1,5,6,4,1,3,5]\n",
    "\n",
    "sub_list = [1,1,5]\n",
    "\n",
    "for item in listy:\n",
    "    if item == sub_list[0]:\n",
    "        sub_list.pop(0)\n",
    "        \n",
    "if len(sub_list) == 0:\n",
    "    print(\"its a match\")\n",
    "else:\n",
    "    print(\"its Gone\")"
   ]
  },
  {
   "cell_type": "code",
   "execution_count": null,
   "metadata": {},
   "outputs": [],
   "source": [
    "def calculator(num1,num2,op):\n",
    "    if op ==\"+\":\n",
    "        return num1 +num2\n",
    "    elif op ==\"-\":\n",
    "        return num1 -num2\n",
    "    elif op ==\"*\":\n",
    "        return num1 *num2\n",
    "    elif op ==\"/\":\n",
    "        return num1 /num2\n",
    "    else:\n",
    "        return \"give proper operand,+,-,*,/\""
   ]
  },
  {
   "cell_type": "code",
   "execution_count": null,
   "metadata": {},
   "outputs": [],
   "source": [
    "def calculator(num1,num2,op):\n",
    "    if op ==\"+\":\n",
    "        return num1 +num2\n",
    "    elif op ==\"-\":\n",
    "        return num1 -num2\n",
    "    elif op ==\"*\":\n",
    "        return num1 *num2\n",
    "    elif op ==\"/\":\n",
    "        return num1 /num2\n",
    "    else:\n",
    "        return \"give proper operand,+,-,*,/\""
   ]
  },
  {
   "cell_type": "code",
   "execution_count": null,
   "metadata": {},
   "outputs": [],
   "source": [
    "calculator(10,20,\"+\")"
   ]
  },
  {
   "cell_type": "code",
   "execution_count": null,
   "metadata": {},
   "outputs": [],
   "source": [
    "calculator(20,10,\"-\")"
   ]
  },
  {
   "cell_type": "code",
   "execution_count": null,
   "metadata": {},
   "outputs": [],
   "source": [
    "calculator(10,20,\"*\")"
   ]
  },
  {
   "cell_type": "code",
   "execution_count": null,
   "metadata": {},
   "outputs": [],
   "source": [
    "calculator(20,10,\"/\")"
   ]
  },
  {
   "cell_type": "code",
   "execution_count": null,
   "metadata": {},
   "outputs": [],
   "source": []
  },
  {
   "cell_type": "markdown",
   "metadata": {},
   "source": [
    "# BATCH-3 DAY 3 ASSIGN 1"
   ]
  },
  {
   "cell_type": "code",
   "execution_count": null,
   "metadata": {},
   "outputs": [],
   "source": [
    "marks = int(input(\"Enter marks- \"))\n",
    "\n",
    "print(\"|        |\"\")\n",
    "\n",
    "if (marks >=85):\n",
    "elif (marks>=75 & marks <= 84):\n",
    "    print(\"| B |\")\n",
    "elif (marks>=65 & marks <= 74):\n",
    "    print(\"| C |\")\n",
    "elif (marks>=55 & marks <= 64):\n",
    "    print(\"| D |\")\n",
    "elif (marks>=45 & marks <= 54):\n",
    "    print(\"| E |\")\n",
    "else:\n",
    "      print( \"NEED TO IMPROVE\")\n",
    "      \n",
    "print(\"|     |\")"
   ]
  },
  {
   "cell_type": "code",
   "execution_count": null,
   "metadata": {},
   "outputs": [],
   "source": [
    "marks = int(input(\"Enter marks- \"))\n",
    "\n",
    "print(\"|    |\")\n",
    "\n",
    "if (marks >=85):\n",
    "elif (marks>=75 & marks <= 84):\n",
    "    print(\"| B |\")\n",
    "elif (marks>=65 & marks <= 74):\n",
    "    print(\"| C |\")\n",
    "elif (marks>=55 & marks <= 64):\n",
    "    print(\"| D |\")\n",
    "elif (marks>=45 & marks <= 54):\n",
    "    print(\"| E |\")\n",
    "else:\n",
    "      print( \"NEED TO IMPROVE\")\n",
    "      \n",
    "print(\"|     |\")"
   ]
  },
  {
   "cell_type": "code",
   "execution_count": null,
   "metadata": {
    "scrolled": true
   },
   "outputs": [],
   "source": [
    "marks = int(input(\"Enter marks- \"))\n",
    "\n",
    "print(\"|        |\"\")\n",
    "\n",
    "if (marks >=85):\n",
    "    print(\"| A |\")\n",
    "elif (marks>=75 & marks <= 84):\n",
    "    print(\"| B |\")\n",
    "elif (marks>=65 & marks <= 74):\n",
    "    print(\"| C |\")\n",
    "elif (marks>=55 & marks <= 64):\n",
    "    print(\"| D |\")\n",
    "elif (marks>=45 & marks <= 54):\n",
    "    print(\"| E |\")\n",
    "else:\n",
    "      print( \"NEED TO IMPROVE\")\n",
    "      \n",
    "print(\"|     |\")"
   ]
  },
  {
   "cell_type": "code",
   "execution_count": null,
   "metadata": {},
   "outputs": [],
   "source": [
    "marks = int(input(\"Enter marks- \"))\n",
    "\n",
    "print(\"|    |\")\n",
    "\n",
    "if (marks >=85):\n",
    "    print(\"| A |\")\n",
    "elif (marks>=75 & marks <= 84):\n",
    "    print(\"| B |\")\n",
    "elif (marks>=65 & marks <= 74):\n",
    "    print(\"| C |\")\n",
    "elif (marks>=55 & marks <= 64):\n",
    "    print(\"| D |\")\n",
    "elif (marks>=45 & marks <= 54):\n",
    "    print(\"| E |\")\n",
    "else:\n",
    "      print( \"NEED TO IMPROVE\")\n",
    "      \n",
    "print(\"|     |\")"
   ]
  },
  {
   "cell_type": "code",
   "execution_count": null,
   "metadata": {},
   "outputs": [],
   "source": []
  },
  {
   "cell_type": "markdown",
   "metadata": {},
   "source": [
    "# RESULT OF STUDENTS MARK &GRADING "
   ]
  },
  {
   "cell_type": "code",
   "execution_count": null,
   "metadata": {},
   "outputs": [],
   "source": []
  },
  {
   "cell_type": "code",
   "execution_count": 2,
   "metadata": {},
   "outputs": [
    {
     "name": "stdout",
     "output_type": "stream",
     "text": [
      "Enter marks of maths,Enter marks of physics,Enter marks of chemistry34,54,65\n"
     ]
    },
    {
     "ename": "ValueError",
     "evalue": "could not convert string to float: '34,54,65'",
     "output_type": "error",
     "traceback": [
      "\u001b[1;31m---------------------------------------------------------------------------\u001b[0m",
      "\u001b[1;31mValueError\u001b[0m                                Traceback (most recent call last)",
      "\u001b[1;32m<ipython-input-2-2906940efd6c>\u001b[0m in \u001b[0;36m<module>\u001b[1;34m\u001b[0m\n\u001b[1;32m----> 1\u001b[1;33m \u001b[0mx\u001b[0m\u001b[1;33m=\u001b[0m\u001b[0mfloat\u001b[0m\u001b[1;33m(\u001b[0m\u001b[0minput\u001b[0m\u001b[1;33m(\u001b[0m\u001b[1;34m\"Enter marks of maths,Enter marks of physics,Enter marks of chemistry\"\u001b[0m\u001b[1;33m)\u001b[0m\u001b[1;33m)\u001b[0m\u001b[1;33m\u001b[0m\u001b[1;33m\u001b[0m\u001b[0m\n\u001b[0m",
      "\u001b[1;31mValueError\u001b[0m: could not convert string to float: '34,54,65'"
     ]
    }
   ],
   "source": [
    "\n",
    "x=float(input(\"Enter marks of maths,Enter marks of physics,Enter marks of chemistry\"))\n"
   ]
  },
  {
   "cell_type": "code",
   "execution_count": 16,
   "metadata": {},
   "outputs": [
    {
     "name": "stdout",
     "output_type": "stream",
     "text": [
      "90.0\n"
     ]
    },
    {
     "data": {
      "text/plain": [
       "float"
      ]
     },
     "execution_count": 16,
     "metadata": {},
     "output_type": "execute_result"
    }
   ],
   "source": [
    "print(x)\n",
    "type(x)\n"
   ]
  },
  {
   "cell_type": "code",
   "execution_count": 3,
   "metadata": {},
   "outputs": [
    {
     "name": "stdout",
     "output_type": "stream",
     "text": [
      "Enter marks of math45.50\n"
     ]
    }
   ],
   "source": [
    "marks_maths=float(input(\"Enter marks of math\"))"
   ]
  },
  {
   "cell_type": "code",
   "execution_count": 3,
   "metadata": {},
   "outputs": [
    {
     "name": "stdout",
     "output_type": "stream",
     "text": [
      "45.4\n"
     ]
    }
   ],
   "source": [
    "print(marks_maths)"
   ]
  },
  {
   "cell_type": "code",
   "execution_count": 7,
   "metadata": {},
   "outputs": [
    {
     "name": "stdout",
     "output_type": "stream",
     "text": [
      "Enter 3 sub marks separated by coma45.40,55.40,65.40\n"
     ]
    }
   ],
   "source": [
    "x=[]\n",
    "x=input(\"Enter 3 sub marks separated by coma\").split(\",\")"
   ]
  },
  {
   "cell_type": "code",
   "execution_count": 2,
   "metadata": {},
   "outputs": [
    {
     "name": "stdout",
     "output_type": "stream",
     "text": [
      "Enter marks40,55.40,66\n"
     ]
    },
    {
     "ename": "TypeError",
     "evalue": "float() argument must be a string or a number, not 'list'",
     "output_type": "error",
     "traceback": [
      "\u001b[1;31m---------------------------------------------------------------------------\u001b[0m",
      "\u001b[1;31mTypeError\u001b[0m                                 Traceback (most recent call last)",
      "\u001b[1;32m<ipython-input-2-d269030d4016>\u001b[0m in \u001b[0;36m<module>\u001b[1;34m\u001b[0m\n\u001b[1;32m----> 1\u001b[1;33m \u001b[0mmarks\u001b[0m\u001b[1;33m=\u001b[0m\u001b[0mfloat\u001b[0m\u001b[1;33m(\u001b[0m\u001b[0minput\u001b[0m\u001b[1;33m(\u001b[0m\u001b[1;34m\"Enter marks\"\u001b[0m\u001b[1;33m)\u001b[0m\u001b[1;33m.\u001b[0m\u001b[0msplit\u001b[0m\u001b[1;33m(\u001b[0m\u001b[1;34m\",\"\u001b[0m\u001b[1;33m)\u001b[0m\u001b[1;33m)\u001b[0m\u001b[1;33m\u001b[0m\u001b[1;33m\u001b[0m\u001b[0m\n\u001b[0m\u001b[0;32m      2\u001b[0m \u001b[0mmarks\u001b[0m\u001b[1;33m=\u001b[0m\u001b[1;33m[\u001b[0m\u001b[1;33m]\u001b[0m\u001b[1;33m\u001b[0m\u001b[1;33m\u001b[0m\u001b[0m\n\u001b[0;32m      3\u001b[0m \u001b[1;33m\u001b[0m\u001b[0m\n\u001b[0;32m      4\u001b[0m \u001b[1;33m\u001b[0m\u001b[0m\n",
      "\u001b[1;31mTypeError\u001b[0m: float() argument must be a string or a number, not 'list'"
     ]
    }
   ],
   "source": [
    "marks=float(input(\"Enter marks\").split(\",\"))\n",
    "marks=[]\n",
    "\n",
    "\n"
   ]
  },
  {
   "cell_type": "code",
   "execution_count": null,
   "metadata": {},
   "outputs": [],
   "source": [
    "marks=[]\n",
    "marks=float(input(\"Enter marks:maths,physic,chem\")).split(\",\")\n",
    "\n",
    "\n"
   ]
  },
  {
   "cell_type": "code",
   "execution_count": 1,
   "metadata": {},
   "outputs": [
    {
     "ename": "TypeError",
     "evalue": "raw_input() takes from 1 to 2 positional arguments but 5 were given",
     "output_type": "error",
     "traceback": [
      "\u001b[1;31m---------------------------------------------------------------------------\u001b[0m",
      "\u001b[1;31mTypeError\u001b[0m                                 Traceback (most recent call last)",
      "\u001b[1;32m<ipython-input-1-617783730861>\u001b[0m in \u001b[0;36m<module>\u001b[1;34m\u001b[0m\n\u001b[0;32m      1\u001b[0m \u001b[0mmarks\u001b[0m\u001b[1;33m=\u001b[0m\u001b[1;33m[\u001b[0m\u001b[1;33m]\u001b[0m\u001b[1;33m\u001b[0m\u001b[1;33m\u001b[0m\u001b[0m\n\u001b[1;32m----> 2\u001b[1;33m \u001b[0mmarks\u001b[0m\u001b[1;33m=\u001b[0m\u001b[0mfloat\u001b[0m\u001b[1;33m(\u001b[0m\u001b[0minput\u001b[0m\u001b[1;33m(\u001b[0m\u001b[1;34m\"Enter marks:\"\u001b[0m\u001b[1;33m,\u001b[0m\u001b[1;34m\"maths\"\u001b[0m\u001b[1;33m,\u001b[0m\u001b[1;34m\"physic\"\u001b[0m\u001b[1;33m,\u001b[0m\u001b[1;34m\"chem\"\u001b[0m\u001b[1;33m)\u001b[0m\u001b[1;33m)\u001b[0m\u001b[1;33m.\u001b[0m\u001b[0msplit\u001b[0m\u001b[1;33m(\u001b[0m\u001b[1;34m\",\"\u001b[0m\u001b[1;33m)\u001b[0m\u001b[1;33m\u001b[0m\u001b[1;33m\u001b[0m\u001b[0m\n\u001b[0m\u001b[0;32m      3\u001b[0m \u001b[1;33m\u001b[0m\u001b[0m\n\u001b[0;32m      4\u001b[0m \u001b[1;33m\u001b[0m\u001b[0m\n\u001b[0;32m      5\u001b[0m \u001b[1;33m\u001b[0m\u001b[0m\n",
      "\u001b[1;31mTypeError\u001b[0m: raw_input() takes from 1 to 2 positional arguments but 5 were given"
     ]
    }
   ],
   "source": [
    "marks=[]\n",
    "marks=float(input(\"Enter marks:\",\"maths\",\"physic\",\"chem\")).split(\",\")\n",
    "\n",
    "\n",
    "\n"
   ]
  },
  {
   "cell_type": "code",
   "execution_count": null,
   "metadata": {},
   "outputs": [],
   "source": [
    "Marks = input(\"Enter marks:\" , \"maths\" ,\"phy\" , \"chem\")"
   ]
  },
  {
   "cell_type": "code",
   "execution_count": null,
   "metadata": {},
   "outputs": [],
   "source": [
    "\n",
    "Marks=float(input(\"Enter marks:\" , \"maths\" ,\"phy\" ,\"chem\")).spilt(\",\")\n",
    "\n"
   ]
  },
  {
   "cell_type": "code",
   "execution_count": null,
   "metadata": {},
   "outputs": [],
   "source": []
  },
  {
   "cell_type": "code",
   "execution_count": 7,
   "metadata": {},
   "outputs": [
    {
     "name": "stdout",
     "output_type": "stream",
     "text": [
      "Enter Marks of subject: 35 , 54 , 65 \n",
      "Maths Marks:  35\n",
      "Physics Marks:  54\n",
      "Chem Marks:  65 \n",
      "\n"
     ]
    }
   ],
   "source": [
    "m , p , c =input(\"Enter Marks of subject: \").split(\" , \")\n",
    "print(\"Maths Marks: \", m)\n",
    "print(\"Physics Marks: \", p)\n",
    "print(\"Chem Marks: \", c)\n",
    "print()\n",
    "\n"
   ]
  },
  {
   "cell_type": "code",
   "execution_count": 10,
   "metadata": {},
   "outputs": [
    {
     "name": "stdout",
     "output_type": "stream",
     "text": [
      "student pass\n"
     ]
    }
   ],
   "source": [
    "if m>=35 and p>=35 and c>=35:\n",
    "    print(\"student pass\")\n",
    "else:\n",
    "    print(\"student fail\")"
   ]
  },
  {
   "cell_type": "code",
   "execution_count": 4,
   "metadata": {},
   "outputs": [
    {
     "ename": "TypeError",
     "evalue": "unsupported operand type(s) for /: 'str' and 'int'",
     "output_type": "error",
     "traceback": [
      "\u001b[1;31m---------------------------------------------------------------------------\u001b[0m",
      "\u001b[1;31mTypeError\u001b[0m                                 Traceback (most recent call last)",
      "\u001b[1;32m<ipython-input-4-2e89dcea86cf>\u001b[0m in \u001b[0;36m<module>\u001b[1;34m\u001b[0m\n\u001b[1;32m----> 1\u001b[1;33m \u001b[0mavg\u001b[0m\u001b[1;33m=\u001b[0m\u001b[1;33m(\u001b[0m\u001b[0mm\u001b[0m\u001b[1;33m+\u001b[0m\u001b[0mp\u001b[0m\u001b[1;33m+\u001b[0m\u001b[0mc\u001b[0m\u001b[1;33m)\u001b[0m\u001b[1;33m/\u001b[0m\u001b[1;36m3\u001b[0m\u001b[1;33m\u001b[0m\u001b[1;33m\u001b[0m\u001b[0m\n\u001b[0m",
      "\u001b[1;31mTypeError\u001b[0m: unsupported operand type(s) for /: 'str' and 'int'"
     ]
    }
   ],
   "source": [
    "avg=(m+p+c)/3\n",
    "print(avg)\n",
    "\n"
   ]
  },
  {
   "cell_type": "code",
   "execution_count": 5,
   "metadata": {},
   "outputs": [
    {
     "ename": "TypeError",
     "evalue": "unsupported operand type(s) for /: 'str' and 'int'",
     "output_type": "error",
     "traceback": [
      "\u001b[1;31m---------------------------------------------------------------------------\u001b[0m",
      "\u001b[1;31mTypeError\u001b[0m                                 Traceback (most recent call last)",
      "\u001b[1;32m<ipython-input-5-a5d7a27410a7>\u001b[0m in \u001b[0;36m<module>\u001b[1;34m\u001b[0m\n\u001b[1;32m----> 1\u001b[1;33m \u001b[0mavg\u001b[0m\u001b[1;33m=\u001b[0m\u001b[1;33m(\u001b[0m\u001b[1;34m\"m\"\u001b[0m\u001b[1;33m)\u001b[0m\u001b[1;33m+\u001b[0m\u001b[1;33m(\u001b[0m\u001b[1;34m\"p\"\u001b[0m\u001b[1;33m)\u001b[0m\u001b[1;33m+\u001b[0m\u001b[1;33m(\u001b[0m\u001b[1;34m\"c\"\u001b[0m\u001b[1;33m)\u001b[0m\u001b[1;33m/\u001b[0m\u001b[1;36m3\u001b[0m\u001b[1;33m\u001b[0m\u001b[1;33m\u001b[0m\u001b[0m\n\u001b[0m\u001b[0;32m      2\u001b[0m \u001b[1;33m\u001b[0m\u001b[0m\n\u001b[0;32m      3\u001b[0m \u001b[1;32mif\u001b[0m \u001b[0mavg\u001b[0m \u001b[1;33m>=\u001b[0m\u001b[1;36m65\u001b[0m\u001b[1;33m:\u001b[0m\u001b[1;33m\u001b[0m\u001b[1;33m\u001b[0m\u001b[0m\n\u001b[0;32m      4\u001b[0m     \u001b[0mprint\u001b[0m\u001b[1;33m(\u001b[0m\u001b[1;34m\" A \"\u001b[0m\u001b[1;33m)\u001b[0m\u001b[1;33m\u001b[0m\u001b[1;33m\u001b[0m\u001b[0m\n\u001b[0;32m      5\u001b[0m \u001b[1;32melif\u001b[0m \u001b[0mavg\u001b[0m \u001b[1;33m>=\u001b[0m\u001b[1;36m45\u001b[0m\u001b[1;33m:\u001b[0m\u001b[1;33m\u001b[0m\u001b[1;33m\u001b[0m\u001b[0m\n",
      "\u001b[1;31mTypeError\u001b[0m: unsupported operand type(s) for /: 'str' and 'int'"
     ]
    }
   ],
   "source": [
    "avg=(\"m\")+(\"p\")+(\"c\")/3\n",
    "\n",
    "if avg >=65:\n",
    "    print(\" A \")\n",
    "elif avg >=45:\n",
    "    print(\" B \")\n",
    "elif avg >=35:\n",
    "    print(\" C \")\n",
    "else:\n",
    "    print(\"NEED TO IMPROVE\")    \n",
    "    \n",
    "    \n",
    "\n"
   ]
  },
  {
   "cell_type": "code",
   "execution_count": null,
   "metadata": {},
   "outputs": [],
   "source": [
    "#a,b ,c = map(int,input().split(','))"
   ]
  },
  {
   "cell_type": "code",
   "execution_count": 9,
   "metadata": {},
   "outputs": [
    {
     "name": "stdout",
     "output_type": "stream",
     "text": [
      "Enter Marks of subject: 35 , 54 , 65\n",
      "Maths Marks:  35\n",
      "Physics Marks:  54\n",
      "Chem Marks:  65\n",
      "\n"
     ]
    }
   ],
   "source": [
    "m , p , c =map(int,input(\"Enter Marks of subject: \").split(\" , \"))\n",
    "print(\"Maths Marks: \", m)\n",
    "print(\"Physics Marks: \", p)\n",
    "print(\"Chem Marks: \", c)\n",
    "print()\n",
    "\n"
   ]
  },
  {
   "cell_type": "code",
   "execution_count": 11,
   "metadata": {},
   "outputs": [
    {
     "name": "stdout",
     "output_type": "stream",
     "text": [
      "student pass\n"
     ]
    }
   ],
   "source": [
    "if m>=35 and p>=35 and c>=35:\n",
    "    print(\"student pass\")\n",
    "else:\n",
    "    print(\"student fail\")"
   ]
  },
  {
   "cell_type": "code",
   "execution_count": 12,
   "metadata": {},
   "outputs": [
    {
     "name": "stdout",
     "output_type": "stream",
     "text": [
      "51.333333333333336\n"
     ]
    }
   ],
   "source": [
    "avg=(m+p+c)/3\n",
    "print(avg)\n"
   ]
  },
  {
   "cell_type": "code",
   "execution_count": 13,
   "metadata": {},
   "outputs": [
    {
     "name": "stdout",
     "output_type": "stream",
     "text": [
      " B \n"
     ]
    }
   ],
   "source": [
    "\n",
    "if avg >=65:\n",
    "    print(\" A \")\n",
    "elif avg >=45:\n",
    "    print(\" B \")\n",
    "elif avg >=35:\n",
    "    print(\" C \")\n",
    "else:\n",
    "    print(\"NEED TO IMPROVE\")    \n",
    "    "
   ]
  },
  {
   "cell_type": "markdown",
   "metadata": {},
   "source": [
    "# input function\n"
   ]
  },
  {
   "cell_type": "code",
   "execution_count": 1,
   "metadata": {},
   "outputs": [
    {
     "name": "stdout",
     "output_type": "stream",
     "text": [
      "your name:DOLAR\n"
     ]
    }
   ],
   "source": [
    "x=input(\"your name:\")\n",
    "\n"
   ]
  },
  {
   "cell_type": "code",
   "execution_count": 3,
   "metadata": {},
   "outputs": [
    {
     "name": "stdout",
     "output_type": "stream",
     "text": [
      "your name:DOLAR\n",
      "DOLAR\n"
     ]
    }
   ],
   "source": [
    "x=input(\"your name:\")\n",
    "print(x)\n"
   ]
  },
  {
   "cell_type": "code",
   "execution_count": null,
   "metadata": {},
   "outputs": [],
   "source": [
    "x=input(\"your name\")"
   ]
  },
  {
   "cell_type": "code",
   "execution_count": null,
   "metadata": {},
   "outputs": [],
   "source": [
    "print(x)"
   ]
  },
  {
   "cell_type": "code",
   "execution_count": null,
   "metadata": {},
   "outputs": [],
   "source": [
    "input(\"enter marks :math, physics, chemistry:\")"
   ]
  },
  {
   "cell_type": "markdown",
   "metadata": {},
   "source": [
    "# GRADING ASSIGN"
   ]
  },
  {
   "cell_type": "code",
   "execution_count": 6,
   "metadata": {},
   "outputs": [
    {
     "name": "stdout",
     "output_type": "stream",
     "text": [
      "enter maths marks:math,physic,chemistry: 33:44:55\n",
      "[33.0, 44.0, 55.0]\n"
     ]
    }
   ],
   "source": [
    "marks=[float(x) for x in input(\"enter maths marks:math,physic,chemistry: \").split(\":\")]\n",
    "print(marks)\n",
    "\n",
    "\n"
   ]
  },
  {
   "cell_type": "code",
   "execution_count": 4,
   "metadata": {},
   "outputs": [
    {
     "name": "stdout",
     "output_type": "stream",
     "text": [
      "enter marks:math,physic,chem90\n",
      "90.0\n"
     ]
    }
   ],
   "source": [
    "marks=float(input(\"enter marks:math,physic,chem\"))\n",
    "\n",
    "print(marks)"
   ]
  },
  {
   "cell_type": "code",
   "execution_count": 2,
   "metadata": {},
   "outputs": [
    {
     "name": "stdout",
     "output_type": "stream",
     "text": [
      "enter marks:math,physic,chem35,54,65\n",
      "['35', '54', '65']\n"
     ]
    }
   ],
   "source": [
    "marks=input(\"enter marks:math,physic,chem\").split(\",\")\n",
    "\n",
    "print(marks)"
   ]
  },
  {
   "cell_type": "markdown",
   "metadata": {},
   "source": [
    "# LOOP Assign"
   ]
  },
  {
   "cell_type": "code",
   "execution_count": 2,
   "metadata": {
    "scrolled": true
   },
   "outputs": [
    {
     "name": "stdout",
     "output_type": "stream",
     "text": [
      "Enter no.:101\n",
      "1\n",
      "2\n",
      "3\n",
      "4\n",
      "5\n",
      "6\n",
      "7\n",
      "8\n",
      "9\n",
      "11\n",
      "12\n",
      "13\n",
      "14\n",
      "15\n",
      "16\n",
      "17\n",
      "18\n",
      "19\n",
      "21\n",
      "22\n",
      "23\n",
      "24\n",
      "25\n",
      "26\n",
      "27\n",
      "28\n",
      "29\n",
      "31\n",
      "32\n",
      "33\n",
      "34\n",
      "35\n",
      "36\n",
      "37\n",
      "38\n",
      "39\n",
      "41\n",
      "42\n",
      "43\n",
      "44\n",
      "45\n",
      "46\n",
      "47\n",
      "48\n",
      "49\n",
      "51\n",
      "52\n",
      "53\n",
      "54\n",
      "55\n",
      "56\n",
      "57\n",
      "58\n",
      "59\n",
      "61\n",
      "62\n",
      "63\n",
      "64\n",
      "65\n",
      "66\n",
      "67\n",
      "68\n",
      "69\n",
      "71\n",
      "72\n",
      "73\n",
      "74\n",
      "75\n",
      "76\n",
      "77\n",
      "78\n",
      "79\n",
      "81\n",
      "82\n",
      "83\n",
      "84\n",
      "85\n",
      "86\n",
      "87\n",
      "88\n",
      "89\n",
      "91\n",
      "92\n",
      "93\n",
      "94\n",
      "95\n",
      "96\n",
      "97\n",
      "98\n",
      "99\n"
     ]
    }
   ],
   "source": [
    "x=int(input(\"Enter no.:\"))\n",
    "x=0 \n",
    "while x<100:\n",
    "    x+=1\n",
    "    if x%10 == 0:\n",
    "        continue\n",
    "    elif x>100:\n",
    "        break\n",
    "    print(x)"
   ]
  },
  {
   "cell_type": "code",
   "execution_count": null,
   "metadata": {},
   "outputs": [],
   "source": []
  },
  {
   "cell_type": "code",
   "execution_count": null,
   "metadata": {},
   "outputs": [],
   "source": []
  },
  {
   "cell_type": "code",
   "execution_count": 17,
   "metadata": {},
   "outputs": [
    {
     "name": "stdout",
     "output_type": "stream",
     "text": [
      "Enter a no. 12\n",
      "prime no\n"
     ]
    }
   ],
   "source": [
    "x=int(input(\"Enter a no. \"))\n",
    "Flag=True\n",
    "\n",
    "for i in range(2,x-1):\n",
    "    if x%i==0:\n",
    "        Flag=False\n",
    "    else:\n",
    "        Flag=True\n",
    "if Flag==False:\n",
    "    print(\"not prime no\")\n",
    "else:\n",
    "    print(\"prime no\")"
   ]
  },
  {
   "cell_type": "code",
   "execution_count": 2,
   "metadata": {},
   "outputs": [
    {
     "name": "stdout",
     "output_type": "stream",
     "text": [
      "Enter a no. 12\n",
      "not prime no\n"
     ]
    }
   ],
   "source": [
    "x=int(input(\"Enter a no. \"))\n",
    "Flag=True\n",
    "\n",
    "for i in range(2,x-1):\n",
    "    if x%i==0:\n",
    "        Flag=False\n",
    "        break   \n",
    "if Flag==False:\n",
    "    print(\"not prime no\")\n",
    "else:\n",
    "    print(\"prime no\")\n",
    "    \n",
    "    "
   ]
  },
  {
   "cell_type": "code",
   "execution_count": 3,
   "metadata": {},
   "outputs": [
    {
     "name": "stdout",
     "output_type": "stream",
     "text": [
      "Enter a no. 7\n",
      "prime no\n"
     ]
    }
   ],
   "source": [
    "x=int(input(\"Enter a no. \"))\n",
    "Flag=True\n",
    "\n",
    "for i in range(2,x-1):\n",
    "    if x%i==0:\n",
    "        Flag=False\n",
    "        break\n",
    "    \n",
    "if Flag==False:\n",
    "    print(\"not prime no\")\n",
    "else:\n",
    "    print(\"prime no\")"
   ]
  },
  {
   "cell_type": "markdown",
   "metadata": {},
   "source": [
    "#    # FUNCTION"
   ]
  },
  {
   "cell_type": "code",
   "execution_count": 3,
   "metadata": {},
   "outputs": [
    {
     "name": "stdout",
     "output_type": "stream",
     "text": [
      "average of two number is 15.0\n"
     ]
    }
   ],
   "source": [
    "def average(a,b):\n",
    "    print(\"average of two number is\",(a+b)/2)\n",
    "average(10,20)\n"
   ]
  },
  {
   "cell_type": "code",
   "execution_count": 5,
   "metadata": {},
   "outputs": [
    {
     "name": "stdout",
     "output_type": "stream",
     "text": [
      "15.0\n"
     ]
    }
   ],
   "source": [
    "def average(a,b):\n",
    "    return(a+b)/2\n",
    "result = average(10,20)\n",
    "print(result)"
   ]
  },
  {
   "cell_type": "code",
   "execution_count": 6,
   "metadata": {},
   "outputs": [
    {
     "name": "stdout",
     "output_type": "stream",
     "text": [
      "15.0\n"
     ]
    }
   ],
   "source": [
    "def average(a,b):\n",
    "    return(a+b)/2\n",
    "print(average(10,20))"
   ]
  },
  {
   "cell_type": "code",
   "execution_count": null,
   "metadata": {},
   "outputs": [],
   "source": []
  },
  {
   "cell_type": "markdown",
   "metadata": {},
   "source": [
    "# UDEMY ARITHMATIC ASSIGN"
   ]
  },
  {
   "cell_type": "code",
   "execution_count": null,
   "metadata": {},
   "outputs": [],
   "source": []
  },
  {
   "cell_type": "code",
   "execution_count": 1,
   "metadata": {},
   "outputs": [
    {
     "name": "stdout",
     "output_type": "stream",
     "text": [
      "Adition:  30\n",
      "Subtraction:  10\n",
      "Mul:  200\n",
      "Division:  2.0\n",
      "Mod:  0\n",
      "Power:  10240000000000\n",
      "Floor divisin:  2\n"
     ]
    }
   ],
   "source": [
    "x,y=20,10\n",
    "print('Adition: ',x+y)\n",
    "print('Subtraction: ',x-y)\n",
    "print('Mul: ',x*y)\n",
    "print('Division: ',x/y)\n",
    "print('Mod: ',x%y)\n",
    "print('Power: ',x**y)\n",
    "print('Floor divisin: ',x//y)\n"
   ]
  },
  {
   "cell_type": "code",
   "execution_count": null,
   "metadata": {},
   "outputs": [],
   "source": []
  },
  {
   "cell_type": "code",
   "execution_count": 2,
   "metadata": {},
   "outputs": [
    {
     "name": "stdout",
     "output_type": "stream",
     "text": [
      "4\n"
     ]
    }
   ],
   "source": [
    "lst = [1,2,3,1,2,1,2,3,2,1]\n",
    "print(lst.index(2,2))\n",
    "\n"
   ]
  },
  {
   "cell_type": "code",
   "execution_count": null,
   "metadata": {},
   "outputs": [],
   "source": []
  }
 ],
 "metadata": {
  "kernelspec": {
   "display_name": "Python 3",
   "language": "python",
   "name": "python3"
  },
  "language_info": {
   "codemirror_mode": {
    "name": "ipython",
    "version": 3
   },
   "file_extension": ".py",
   "mimetype": "text/x-python",
   "name": "python",
   "nbconvert_exporter": "python",
   "pygments_lexer": "ipython3",
   "version": "3.7.6"
  }
 },
 "nbformat": 4,
 "nbformat_minor": 4
}
