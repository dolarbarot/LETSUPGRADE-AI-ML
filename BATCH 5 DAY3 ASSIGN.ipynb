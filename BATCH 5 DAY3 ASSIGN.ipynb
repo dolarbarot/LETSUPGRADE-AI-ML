{
 "cells": [
  {
   "cell_type": "code",
   "execution_count": null,
   "metadata": {},
   "outputs": [],
   "source": [
    "alt=int(input(\"Enter altitude  \"))\n",
    "\n",
    "if alt<1000:\n",
    "    print(\"safe to land\")\n",
    "elif alt<5000:\n",
    "    print(\"bring it to 1000\")\n",
    "else:\n",
    "    print(\"Turn aroud & attempt later\")\n"
   ]
  },
  {
   "cell_type": "code",
   "execution_count": null,
   "metadata": {},
   "outputs": [],
   "source": [
    "alt=int(input(\"Enter altitude  \"))\n",
    "\n",
    "if alt<1000:\n",
    "    print(\"safe to land\")\n",
    "elif alt<5000:\n",
    "    print(\"bring it to 1000\")\n",
    "else:\n",
    "    print(\"Turn aroud & attempt later\")\n"
   ]
  },
  {
   "cell_type": "code",
   "execution_count": null,
   "metadata": {},
   "outputs": [],
   "source": [
    "alt=int(input(\"Enter altitude  \"))\n",
    "\n",
    "if alt<1000:\n",
    "    print(\"safe to land\")\n",
    "elif alt<5000:\n",
    "    print(\"bring it to 1000\")\n",
    "else:\n",
    "    print(\"Turn aroud & attempt later\")\n"
   ]
  },
  {
   "cell_type": "code",
   "execution_count": null,
   "metadata": {},
   "outputs": [],
   "source": [
    "alt=int(input(\"Enter altitude  \"))\n",
    "\n",
    "if alt<1000:\n",
    "    print(\"safe to land\")\n",
    "elif alt<5000:\n",
    "    print(\"bring it to 1000\")\n",
    "else:\n",
    "    print(\"Turn aroud & attempt later\")\n",
    "    \n"
   ]
  },
  {
   "cell_type": "code",
   "execution_count": null,
   "metadata": {},
   "outputs": [],
   "source": [
    "alt=int(input(\"Enter altitude  \"))\n",
    "\n",
    "if alt<=1000:\n",
    "    print(\"safe to land\")\n",
    "elif alt<5000:\n",
    "    print(\"bring it to 1000\")\n",
    "else:\n",
    "    print(\"Turn aroud & attempt later\")\n",
    "    \n"
   ]
  },
  {
   "cell_type": "code",
   "execution_count": null,
   "metadata": {},
   "outputs": [],
   "source": [
    "for(i=1;i<200;i++)"
   ]
  },
  {
   "cell_type": "code",
   "execution_count": null,
   "metadata": {},
   "outputs": [],
   "source": [
    "for i in range(1,201):\n",
    "    if i%2==0:\n",
    "        \n",
    "        print(i,\"not prime no.\")\n",
    "    else:\n",
    "        print(i,\"prime no.\")\n",
    "    "
   ]
  },
  {
   "cell_type": "code",
   "execution_count": null,
   "metadata": {},
   "outputs": [],
   "source": [
    "original =153\n",
    "1*1*1+5*5*5+3*3*3\n"
   ]
  },
  {
   "cell_type": "code",
   "execution_count": null,
   "metadata": {},
   "outputs": [],
   "source": [
    "for item in range(1042000,702648265):\n",
    "    sum = 0\n",
    "    length =\n",
    "    temp = item\n",
    "    while temp > 0:"
   ]
  },
  {
   "cell_type": "markdown",
   "metadata": {},
   "source": [
    "# ASSIGN 1"
   ]
  },
  {
   "cell_type": "markdown",
   "metadata": {},
   "source": [
    "Alt = int(input(\"Enter thr flight current altitude\"))\n",
    "\n",
    "if Alt>5000:\n",
    "    print(\"Turn Around \")\n",
    "elif Alt<=5000 and Alt>=1000:\n",
    "    print(\"come down more\")\n",
    "else:\n",
    "    print(\"safe to land\")\n",
    "    "
   ]
  },
  {
   "cell_type": "code",
   "execution_count": null,
   "metadata": {},
   "outputs": [],
   "source": [
    "Alt = int(input(\"Enter thr flight current altitude\"))\n",
    "\n",
    "if Alt>5000:\n",
    "    print(\"Turn Around \")\n",
    "elif Alt<=5000 and Alt>1000:\n",
    "    print(\"come down more\")\n",
    "else:\n",
    "    print(\"safe to land\")"
   ]
  },
  {
   "cell_type": "code",
   "execution_count": null,
   "metadata": {},
   "outputs": [],
   "source": []
  },
  {
   "cell_type": "markdown",
   "metadata": {},
   "source": [
    "# ASSIGN 3"
   ]
  },
  {
   "cell_type": "code",
   "execution_count": null,
   "metadata": {},
   "outputs": [],
   "source": [
    "for item in range(1042000,702648265):\n",
    "    sum = 0\n",
    "    temp = item\n",
    "    length = len(str(item))\n",
    "    \n",
    "    while temp > 0:\n",
    "        digit = temp % 10\n",
    "        sum += digit ** length\n",
    "        temp //=10\n",
    "        \n",
    "    if item == sum:\n",
    "        print(item,\"is an Ams no.\")\n",
    "        break\n",
    "        \n",
    "        \n",
    "        \n",
    "        \n",
    "        \n",
    "        \n",
    "        \n",
    "            \n",
    "            \n",
    "        \n",
    "        \n",
    "    "
   ]
  },
  {
   "cell_type": "code",
   "execution_count": null,
   "metadata": {},
   "outputs": [],
   "source": []
  },
  {
   "cell_type": "code",
   "execution_count": null,
   "metadata": {},
   "outputs": [],
   "source": [
    "\n"
   ]
  }
 ],
 "metadata": {
  "kernelspec": {
   "display_name": "Python 3",
   "language": "python",
   "name": "python3"
  },
  "language_info": {
   "codemirror_mode": {
    "name": "ipython",
    "version": 3
   },
   "file_extension": ".py",
   "mimetype": "text/x-python",
   "name": "python",
   "nbconvert_exporter": "python",
   "pygments_lexer": "ipython3",
   "version": "3.7.6"
  }
 },
 "nbformat": 4,
 "nbformat_minor": 4
}
